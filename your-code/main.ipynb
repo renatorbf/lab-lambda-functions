{
  "nbformat": 4,
  "nbformat_minor": 0,
  "metadata": {
    "kernelspec": {
      "display_name": "Python 3",
      "language": "python",
      "name": "python3"
    },
    "language_info": {
      "codemirror_mode": {
        "name": "ipython",
        "version": 3
      },
      "file_extension": ".py",
      "mimetype": "text/x-python",
      "name": "python",
      "nbconvert_exporter": "python",
      "pygments_lexer": "ipython3",
      "version": "3.8.8"
    },
    "colab": {
      "name": "main.ipynb",
      "provenance": []
    }
  },
  "cells": [
    {
      "cell_type": "markdown",
      "metadata": {
        "id": "ejNtZOonR6FF"
      },
      "source": [
        "# Before your start:\n",
        "- Read the README.md file\n",
        "- Comment as much as you can and use the resources in the README.md file\n",
        "- Happy learning!"
      ]
    },
    {
      "cell_type": "markdown",
      "metadata": {
        "id": "7GFST3fAR6FH"
      },
      "source": [
        "# Challenge 1 - Passing a Lambda Expression to a Function\n",
        "\n",
        "In the next excercise you will create a function that returns a lambda expression. Create a function called `modify_list`. The function takes two arguments, a list and a lambda expression. The function iterates through the list and applies the lambda expression to every element in the list."
      ]
    },
    {
      "cell_type": "markdown",
      "metadata": {
        "id": "YX-hhsdNR6FI"
      },
      "source": [
        "Follow the steps as stated below:\n",
        "    1. Define a list of any 10 numbers\n",
        "    2. Define a simple lambda expression for eg that updates a number by 2\n",
        "    3. Define an empty list\n",
        "    4. Define the function -> use the lambda function to append the empty list\n",
        "    5. Call the function with list and lambda expression\n",
        "    6. print the updated list  "
      ]
    },
    {
      "cell_type": "code",
      "metadata": {
        "colab": {
          "base_uri": "https://localhost:8080/"
        },
        "id": "8H4B42FXR6FI",
        "outputId": "12e293fe-8b91-4bd2-89c8-8ce7122cee04"
      },
      "source": [
        "# your code here\n",
        "# Define a list of any 10 numbers\n",
        "example_list = [11,22,33,44,55,66,77,88,99,420]\n",
        "\n",
        "# Define a simple lambda expression for eg that updates a number by 2\n",
        "updates_by_two = lambda x: x +2\n",
        "\n",
        "# Define an empty list \n",
        "empty_list = []\n",
        "\n",
        "\n",
        "# Define the function -> use the lambda function to append the empty list\n",
        "def update_list(input_list, output_list):\n",
        "  for n in input_list:\n",
        "    output_list.append(updates_by_two(n))\n",
        "\n",
        "# Call the function with list and lambda expression \n",
        "update_list(example_list, empty_list)\n",
        "\n",
        "# print the updated list\n",
        "empty_list"
      ],
      "execution_count": 10,
      "outputs": [
        {
          "output_type": "execute_result",
          "data": {
            "text/plain": [
              "[13, 24, 35, 46, 57, 68, 79, 90, 101, 422]"
            ]
          },
          "metadata": {},
          "execution_count": 10
        }
      ]
    },
    {
      "cell_type": "code",
      "metadata": {
        "id": "cxLc00f_VMPp",
        "outputId": "1b8311c7-1bf5-48cb-bf20-417b85478601",
        "colab": {
          "base_uri": "https://localhost:8080/"
        }
      },
      "source": [
        "# alternative\n",
        "\n",
        "empty_list2 = []\n",
        "\n",
        "def update_list2(input_list, output_list):\n",
        "  for n in input_list:\n",
        "    output_list.append((lambda x: x+2)(n))\n",
        "    \n",
        "\n",
        "update_list2(example_list, empty_list2)\n",
        "empty_list2"
      ],
      "execution_count": 18,
      "outputs": [
        {
          "output_type": "execute_result",
          "data": {
            "text/plain": [
              "[13, 24, 35, 46, 57, 68, 79, 90, 101, 422]"
            ]
          },
          "metadata": {},
          "execution_count": 18
        }
      ]
    },
    {
      "cell_type": "markdown",
      "metadata": {
        "id": "cxv3dYW8R6FK"
      },
      "source": [
        "#### Now we will define a lambda expression that will transform the elements of the list. \n",
        "\n",
        "In the cell below, create a lambda expression that converts Celsius to Kelvin. Recall that 0°C + 273.15 = 273.15K"
      ]
    },
    {
      "cell_type": "code",
      "metadata": {
        "id": "B7kcimVdR6FK"
      },
      "source": [
        "# Your code here:\n",
        "\n",
        "celsius_to_kelvin = lambda c: c + 273.15"
      ],
      "execution_count": 24,
      "outputs": []
    },
    {
      "cell_type": "markdown",
      "metadata": {
        "id": "dFPxtIppR6FK"
      },
      "source": [
        "Finally, convert the list of temperatures below from Celsius to Kelvin."
      ]
    },
    {
      "cell_type": "code",
      "metadata": {
        "colab": {
          "base_uri": "https://localhost:8080/"
        },
        "id": "6Zna2VaIR6FL",
        "outputId": "9f5e940e-e427-46f5-f16d-fcee488f48fe"
      },
      "source": [
        "temps = [12, 23, 38, -55, 24]\n",
        "\n",
        "# Your code here:\n",
        "\n",
        "list(map(celsius_to_kelvin, temps))"
      ],
      "execution_count": 25,
      "outputs": [
        {
          "output_type": "execute_result",
          "data": {
            "text/plain": [
              "[285.15, 296.15, 311.15, 218.14999999999998, 297.15]"
            ]
          },
          "metadata": {},
          "execution_count": 25
        }
      ]
    },
    {
      "cell_type": "markdown",
      "metadata": {
        "id": "qBnCojUeR6FM"
      },
      "source": [
        "#### In this part, we will define a function that returns a lambda expression\n",
        "\n",
        "In the cell below, write a lambda expression that takes two numbers and returns 1 if one is divisible by the other and zero otherwise. Call the lambda expression `mod`."
      ]
    },
    {
      "cell_type": "code",
      "metadata": {
        "id": "1IaQ6Wb3R6FM"
      },
      "source": [
        "# Your code here:\n",
        "\n",
        "mod = lambda x,y : 1 if (x%y == 0) or (y%x == 0) else 0"
      ],
      "execution_count": 31,
      "outputs": []
    },
    {
      "cell_type": "markdown",
      "metadata": {
        "id": "comPW9meR6FM"
      },
      "source": [
        "#### Now create a function that returns mod. The function only takes one argument - the first number in the `mod` lambda function. \n",
        "\n",
        "Note: the lambda function above took two arguments, the lambda function in the return statement only takes one argument but also uses the argument passed to the function."
      ]
    },
    {
      "cell_type": "code",
      "metadata": {
        "id": "UoxirE6XR6FN"
      },
      "source": [
        "def divisor(a):\n",
        "    \"\"\"\n",
        "    input: a number\n",
        "    output: a function that returns 1 if the number is divisible by another number (to be passed later) and zero otherwise\n",
        "    \"\"\"\n",
        "    # Your code here:\n",
        "    return lambda b: mod(a,b)"
      ],
      "execution_count": 35,
      "outputs": []
    },
    {
      "cell_type": "markdown",
      "metadata": {
        "id": "qzGYILcoR6FN"
      },
      "source": [
        "Finally, pass the number 5 to `divisor`. Now the function will check whether a number is divisble by 5. Assign this function to `divisible5`"
      ]
    },
    {
      "cell_type": "code",
      "metadata": {
        "id": "I2d8Oe1zR6FN"
      },
      "source": [
        "# Your code here:\n",
        "\n",
        "divisible5 = divisor(5)"
      ],
      "execution_count": 40,
      "outputs": []
    },
    {
      "cell_type": "markdown",
      "metadata": {
        "id": "A9srEUcFR6FO"
      },
      "source": [
        "Test your function with the following test cases:"
      ]
    },
    {
      "cell_type": "code",
      "metadata": {
        "colab": {
          "base_uri": "https://localhost:8080/"
        },
        "id": "MHKl27XRR6FO",
        "outputId": "1d75b4de-f11e-47a4-8059-6137ef82475f"
      },
      "source": [
        "divisible5(10)"
      ],
      "execution_count": 41,
      "outputs": [
        {
          "output_type": "execute_result",
          "data": {
            "text/plain": [
              "1"
            ]
          },
          "metadata": {},
          "execution_count": 41
        }
      ]
    },
    {
      "cell_type": "code",
      "metadata": {
        "colab": {
          "base_uri": "https://localhost:8080/"
        },
        "id": "b3VeYm4-R6FO",
        "outputId": "71c0bf20-aea8-47cb-93cc-ff5e2aeae23e"
      },
      "source": [
        "divisible5(8)"
      ],
      "execution_count": 42,
      "outputs": [
        {
          "output_type": "execute_result",
          "data": {
            "text/plain": [
              "0"
            ]
          },
          "metadata": {},
          "execution_count": 42
        }
      ]
    },
    {
      "cell_type": "markdown",
      "metadata": {
        "id": "Mj6LKn2QR6FO"
      },
      "source": [
        "# Challenge 2 - Using Lambda Expressions in List Comprehensions\n",
        "\n",
        "In the following challenge, we will combine two lists using a lambda expression in a list comprehension. \n",
        "\n",
        "To do this, we will need to introduce the `zip` function. The `zip` function returns an iterator of tuples.\n",
        "\n",
        "The way zip function works with list has been shown below:"
      ]
    },
    {
      "cell_type": "code",
      "metadata": {
        "colab": {
          "base_uri": "https://localhost:8080/"
        },
        "id": "-Kqw6wfQR6FO",
        "outputId": "99332ce6-ad47-42f6-d095-6300e6578384"
      },
      "source": [
        "list1 = ['Green', 'cheese', 'English', 'tomato']\n",
        "list2 = ['eggs', 'cheese', 'cucumber', 'tomato']\n",
        "zipped = zip(list1,list2)\n",
        "list(zipped)"
      ],
      "execution_count": 43,
      "outputs": [
        {
          "output_type": "execute_result",
          "data": {
            "text/plain": [
              "[('Green', 'eggs'),\n",
              " ('cheese', 'cheese'),\n",
              " ('English', 'cucumber'),\n",
              " ('tomato', 'tomato')]"
            ]
          },
          "metadata": {},
          "execution_count": 43
        }
      ]
    },
    {
      "cell_type": "markdown",
      "metadata": {
        "id": "pvDqfqsTR6FP"
      },
      "source": [
        "In this exercise we will try to compare the elements on the same index in the two lists. \n",
        "We want to zip the two lists and then use a lambda expression to compare if:\n",
        "list1 element > list2 element "
      ]
    },
    {
      "cell_type": "code",
      "metadata": {
        "colab": {
          "base_uri": "https://localhost:8080/"
        },
        "id": "yrCvVYh6R6FP",
        "outputId": "a8f27b98-5c0c-493f-aead-d479c4ad259a"
      },
      "source": [
        "list1 = [1,2,4,4]\n",
        "list2 = [2,3,3,5]\n",
        "## Zip the lists together \n",
        "zipped = list(zip(list1,list2))\n",
        "## Print the zipped list \n",
        "zipped\n",
        "## Use a lambda expression to compare if: list1 element > list2 element\n",
        "# [i > j for i,j in zipped] should use a lambda function\n",
        "[(lambda x: True if x[0] > x[1] else False) (x) for x in zipped]"
      ],
      "execution_count": 67,
      "outputs": [
        {
          "output_type": "execute_result",
          "data": {
            "text/plain": [
              "[False, False, True, False]"
            ]
          },
          "metadata": {},
          "execution_count": 67
        }
      ]
    },
    {
      "cell_type": "markdown",
      "metadata": {
        "id": "u3BVv-LHR6FP"
      },
      "source": [
        "Complete the parts of the code marked as \"###\""
      ]
    },
    {
      "cell_type": "markdown",
      "metadata": {
        "id": "NhGGC-wLR6FP"
      },
      "source": [
        "# Challenge 3 - Using Lambda Expressions as Arguments\n",
        "\n",
        "#### In this challenge, we will zip together two lists and sort by the resulting tuple.\n",
        "\n",
        "In the cell below, take the two lists provided, zip them together and sort by the first letter of the second element of each tuple. Do this using a lambda function."
      ]
    },
    {
      "cell_type": "code",
      "metadata": {
        "id": "PDuqoHT0R6FP"
      },
      "source": [
        "list1 = ['Engineering', 'Computer Science', 'Political Science', 'Mathematics']\n",
        "list2 = ['Lab', 'Homework', 'Essay', 'Module']\n",
        "\n",
        "# Your code here:\n"
      ],
      "execution_count": null,
      "outputs": []
    },
    {
      "cell_type": "markdown",
      "metadata": {
        "id": "UpGtgjMKR6FQ"
      },
      "source": [
        "# Bonus Challenge - Sort a Dictionary by Values\n",
        "\n",
        "Given the dictionary below, sort it by values rather than by keys. Use a lambda function to specify the values as a sorting key."
      ]
    },
    {
      "cell_type": "code",
      "metadata": {
        "id": "FCv3TYo0R6FQ"
      },
      "source": [
        "d = {'Honda': 1997, 'Toyota': 1995, 'Audi': 2001, 'BMW': 2005}\n",
        "\n",
        "# Your code here:\n"
      ],
      "execution_count": null,
      "outputs": []
    },
    {
      "cell_type": "code",
      "metadata": {
        "id": "ihrY8UeBR6FQ"
      },
      "source": [
        ""
      ],
      "execution_count": null,
      "outputs": []
    }
  ]
}